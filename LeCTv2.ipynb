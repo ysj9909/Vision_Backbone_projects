{
  "nbformat": 4,
  "nbformat_minor": 0,
  "metadata": {
    "colab": {
      "name": "LeCTv2.ipynb",
      "provenance": [],
      "collapsed_sections": [],
      "machine_shape": "hm",
      "authorship_tag": "ABX9TyMR87AI9PV4c5ipO6y4MROe"
    },
    "kernelspec": {
      "name": "python3",
      "display_name": "Python 3"
    },
    "language_info": {
      "name": "python"
    },
    "accelerator": "GPU"
  },
  "cells": [
    {
      "cell_type": "code",
      "source": [
        "from google.colab import drive\n",
        "drive.mount('/content/drive')"
      ],
      "metadata": {
        "colab": {
          "base_uri": "https://localhost:8080/"
        },
        "id": "m_C-Q9eHr_kn",
        "outputId": "aa17b857-3edd-4e2e-b3f6-031358b4de31"
      },
      "execution_count": null,
      "outputs": [
        {
          "output_type": "stream",
          "name": "stdout",
          "text": [
            "Mounted at /content/drive\n"
          ]
        }
      ]
    },
    {
      "cell_type": "code",
      "source": [
        "cd ./drive/My Drive/vision_transformer/LocallyEnhancedConvTransformer"
      ],
      "metadata": {
        "colab": {
          "base_uri": "https://localhost:8080/"
        },
        "id": "6jaP8TFksBFh",
        "outputId": "3a6764c0-e377-4f81-9b09-002ae2fe5c24"
      },
      "execution_count": null,
      "outputs": [
        {
          "output_type": "stream",
          "name": "stdout",
          "text": [
            "/content/drive/My Drive/vision_transformer/LocallyEnhancedConvTransformer\n"
          ]
        }
      ]
    },
    {
      "cell_type": "code",
      "execution_count": null,
      "metadata": {
        "id": "DLoavFbild6V"
      },
      "outputs": [],
      "source": [
        "!pip install timm"
      ]
    },
    {
      "cell_type": "code",
      "source": [
        "import math\n",
        "import time\n",
        "import copy\n",
        "import torch\n",
        "import torch.nn as nn\n",
        "import torchvision\n",
        "import torchvision.transforms as transforms\n",
        "import torch.nn.functional as F\n",
        "from functools import partial\n",
        "\n",
        "from timm.models.layers import DropPath, to_2tuple, trunc_normal_\n",
        "\n",
        "\n",
        "# device configuration\n",
        "device = torch.device( 'cuda' if torch.cuda.is_available() else 'cpu')"
      ],
      "metadata": {
        "id": "7yEDxQtoln2h"
      },
      "execution_count": null,
      "outputs": []
    },
    {
      "cell_type": "markdown",
      "source": [
        "# 데이터셋 준비"
      ],
      "metadata": {
        "id": "BAmLFIWnsLit"
      }
    },
    {
      "cell_type": "code",
      "source": [
        "\n",
        "#cifar10\n",
        "normalize = transforms.Normalize(\n",
        "    mean = [0.4914, 0.4822, 0.4465],\n",
        "    std = [0.2023, 0.1994, 0.2010],\n",
        ")\n",
        "\"\"\"\n",
        "# cifar 100 normalize\n",
        "normalize = transforms.Normalize(\n",
        "    mean = [0.5071, 0.4867, 0.4408],\n",
        "    std = [0.2675, 0.2565, 0.2761],\n",
        ")\n",
        "\"\"\"\n",
        "\n",
        "train_transform = transforms.Compose([\n",
        "                                transforms.RandomCrop(32, padding = 4),\n",
        "                                transforms.RandomHorizontalFlip(),\n",
        "                                transforms.RandAugment(),\n",
        "                                transforms.Resize(224),\n",
        "                                transforms.ToTensor(),\n",
        "                                normalize,\n",
        "])\n",
        "valid_transform = transforms.Compose([\n",
        "                                transforms.Resize(224),\n",
        "                                transforms.ToTensor(),\n",
        "                                normalize,      \n",
        "])\n",
        "train_dataset = torchvision.datasets.CIFAR10(root = \"./data\", train = True, download = True, transform= train_transform)\n",
        "valid_dataset = torchvision.datasets.CIFAR10(root = \"./data\", train = False, download = True, transform = valid_transform)\n",
        "\n",
        "train_loader = torch.utils.data.DataLoader(dataset = train_dataset, batch_size = 64, shuffle = True)\n",
        "valid_loader = torch.utils.data.DataLoader(dataset = valid_dataset, batch_size = 64, shuffle = False)"
      ],
      "metadata": {
        "colab": {
          "base_uri": "https://localhost:8080/"
        },
        "id": "czqvrZJtsRsC",
        "outputId": "47856feb-ec0e-49cc-8f4d-319766bf801c"
      },
      "execution_count": null,
      "outputs": [
        {
          "output_type": "stream",
          "name": "stdout",
          "text": [
            "Files already downloaded and verified\n",
            "Files already downloaded and verified\n"
          ]
        }
      ]
    },
    {
      "cell_type": "markdown",
      "source": [
        "# 모델 정의"
      ],
      "metadata": {
        "id": "y-RALyQisSrP"
      }
    },
    {
      "cell_type": "code",
      "source": [
        "class ConvEmbedding(nn.Module):\n",
        "    def __init__(self, \n",
        "                 patch_size = 7, \n",
        "                 stride = 4, \n",
        "                 in_chans = 3, \n",
        "                 embed_dim = 64):\n",
        "        super().__init__()\n",
        "\n",
        "        patch_size = to_2tuple(patch_size)\n",
        "        self.patch_size = patch_size\n",
        "\n",
        "        assert max(patch_size) > stride, \"Set larger patch_size than stride\"\n",
        "\n",
        "        self.proj = nn.Conv2d(in_chans, embed_dim, \n",
        "                              kernel_size = patch_size, \n",
        "                              stride = stride,\n",
        "                              padding = (patch_size[0] // 2, patch_size[1] // 2))\n",
        "        self.norm = nn.LayerNorm(embed_dim)\n",
        "\n",
        "    def forward(self, x):\n",
        "        x = self.proj(x)\n",
        "        B, C, H, W = x.shape\n",
        "\n",
        "        x = x.reshape(B, C, -1).transpose(-2, -1)\n",
        "        x = self.norm(x)\n",
        "        return x, H, W"
      ],
      "metadata": {
        "id": "05b53jjNlpT1"
      },
      "execution_count": null,
      "outputs": []
    },
    {
      "cell_type": "code",
      "source": [
        "class LocallyEnhancedAttention(nn.Module):\n",
        "    def __init__(self, \n",
        "                 dim,\n",
        "                 num_heads,\n",
        "                 qkv_bias = False,\n",
        "                 attn_drop = 0.,\n",
        "                 proj_drop = 0.,\n",
        "                 kernel_size = 3,\n",
        "                 sr_ratio = 7,):\n",
        "        super().__init__()\n",
        "\n",
        "        self.num_heads = num_heads\n",
        "        self.scale = dim ** -0.5\n",
        "        self.attention_map = None\n",
        "\n",
        "        self.proj_v = nn.Linear(dim, dim, bias = qkv_bias)\n",
        "        self.conv1 = nn.Sequential(\n",
        "            nn.Conv2d(dim, dim, kernel_size = kernel_size, stride = 1, \n",
        "                      padding = kernel_size // 2, bias = qkv_bias, groups = dim),\n",
        "            nn.BatchNorm2d(dim),\n",
        "        )\n",
        "        self.conv2 = nn.Sequential(\n",
        "            nn.Conv2d(dim, dim, kernel_size = kernel_size, stride = 1, \n",
        "                      padding = kernel_size // 2, bias = qkv_bias, groups = dim),\n",
        "            nn.BatchNorm2d(dim),\n",
        "        )\n",
        "        self.downsample_k = nn.AvgPool2d(kernel_size = sr_ratio)\n",
        "        self.downsample_q = nn.AvgPool2d(kernel_size = sr_ratio)\n",
        "        self.gelu = nn.GELU()\n",
        "\n",
        "\n",
        "        # For upsampling attention map\n",
        "        self.k_upsample = nn.Upsample(scale_factor = sr_ratio, mode = \"bilinear\")\n",
        "        \n",
        "        self.v_upsample = nn.Upsample(scale_factor = sr_ratio, mode = 'bilinear')\n",
        "        self.v_conv = nn.Conv2d(dim, dim, kernel_size = kernel_size, stride = 1,\n",
        "                                padding = kernel_size // 2, groups = dim, bias = False)\n",
        "        self.v_bn = nn.BatchNorm2d(dim)\n",
        "\n",
        "        self.attn_drop = nn.Dropout(attn_drop)\n",
        "        self.proj = nn.Linear(dim, dim)\n",
        "        self.proj_drop = nn.Dropout(proj_drop)\n",
        "\n",
        "    \n",
        "    def forward(self, x):\n",
        "        B, N, C = x.shape\n",
        "        h, w = int(math.sqrt(N)), int(math.sqrt(N))\n",
        "     \n",
        "        v = self.proj_v(x)\n",
        "        skip = v\n",
        "        skip = skip.reshape(B, h, w, C).permute(0, 3, 1, 2)\n",
        "        skip = self.conv1(skip)\n",
        "        q = self.downsample_q(skip)   # B x C x h' x w'\n",
        "        skip = self.gelu(skip)\n",
        "        skip = self.conv2(skip)\n",
        "        k = self.downsample_k(skip)\n",
        "        skip = self.gelu(skip)\n",
        "        skip = skip.reshape(B, C, -1).transpose(-2, -1)\n",
        "\n",
        "        q = q.reshape(B, self.num_heads, C // self.num_heads, -1).transpose(-2, -1)\n",
        "        k = k.reshape(B, self.num_heads, C // self.num_heads, -1).transpose(-2, -1)\n",
        "        v = v.reshape(B, N, self.num_heads, C // self.num_heads).transpose(1, 2)\n",
        "\n",
        "        attn = (q @ k.transpose(-2, -1))   # B x num_heads x N_ x N_ (N_ = h' * w')\n",
        "\n",
        "        # Upsample attention map\n",
        "        N_ = attn.shape[-1]\n",
        "        h_, w_ = int(math.sqrt(N_)), int(math.sqrt(N_))\n",
        "        attn = attn.reshape(-1, N_, int(math.sqrt(N_)), int(math.sqrt(N_)))\n",
        "        attn = self.k_upsample(attn) * self.scale\n",
        "        attn = attn.reshape(B, self.num_heads, N_, N)\n",
        "\n",
        "        attn = attn.softmax(dim = -1)\n",
        "        self.attention_map = attn\n",
        "        attn = self.attn_drop(attn)\n",
        "        \n",
        "        x = (attn @ v).reshape(B, self.num_heads, h_, w_, -1)\n",
        "        x = x.permute(0, 1, 4, 2, 3).reshape(B, -1, h_, w_)\n",
        "        x = self.v_bn(self.v_conv(self.v_upsample(x)))\n",
        "        x = x.reshape(B, C, -1).transpose(-2, -1) + skip\n",
        "        x = self.proj(x)\n",
        "        x = self.proj_drop(x)\n",
        "\n",
        "        return x"
      ],
      "metadata": {
        "id": "9hymilRtlz9x"
      },
      "execution_count": null,
      "outputs": []
    },
    {
      "cell_type": "code",
      "source": [
        "class LocallyEnhancedFeedForward(nn.Module):\n",
        "    def __init__(self, \n",
        "                 in_features,\n",
        "                 hidden_features = None,\n",
        "                 out_features = None,\n",
        "                 act_layer = nn.GELU,\n",
        "                 drop = 0.,\n",
        "                 kernel_size = 3,\n",
        "                 with_bn = True):\n",
        "        super().__init__()\n",
        "\n",
        "        hidden_features = hidden_features or in_features\n",
        "        out_features = out_features or in_features\n",
        "\n",
        "        # Pointwise\n",
        "        self.conv1 = nn.Conv2d(in_features, hidden_features, kernel_size = 1,\n",
        "                               stride = 1, padding = 0)\n",
        "        \n",
        "        # Depthwise\n",
        "        self.conv2 = nn.Conv2d(hidden_features, hidden_features, kernel_size = kernel_size,\n",
        "                               stride = 1, padding = kernel_size // 2, groups = hidden_features)\n",
        "        \n",
        "        # Pointwise\n",
        "        self.conv3 = nn.Conv2d(hidden_features, out_features, kernel_size = 1,\n",
        "                               stride = 1, padding = 0)\n",
        "        \n",
        "        self.act =  act_layer()\n",
        "        self.drop = nn.Dropout(drop)\n",
        "        self.with_bn = with_bn\n",
        "        if with_bn:\n",
        "            self.bn1 = nn.BatchNorm2d(hidden_features)\n",
        "            self.bn2 = nn.BatchNorm2d(hidden_features)\n",
        "            self.bn3 = nn.BatchNorm2d(out_features)\n",
        "    \n",
        "    def forward(self, x):\n",
        "        B, N, C = x.shape\n",
        "        x = x.reshape(B, int(math.sqrt(N)), int(math.sqrt(N)), C).permute(0, 3, 1, 2)\n",
        "        if self.with_bn:\n",
        "            x = self.conv1(x)\n",
        "            x = self.bn1(x)\n",
        "            x = self.act(x)\n",
        "            x = self.conv2(x)\n",
        "            x = self.bn2(x)\n",
        "            x = self.act(x)\n",
        "            x = self.drop(x)\n",
        "            x = self.conv3(x)\n",
        "            x = self.bn3(x)\n",
        "        else:\n",
        "            x = self.conv1(x)\n",
        "            x = self.act(x)\n",
        "            x = self.conv2(x)\n",
        "            x = self.act(x)\n",
        "            x = self.drop(x)\n",
        "            x = self.conv3(x)\n",
        "            \n",
        "        x = self.drop(x)\n",
        "        x = x.flatten(2).permute(0, 2, 1)\n",
        "        return x"
      ],
      "metadata": {
        "id": "aSULoa2EWg4L"
      },
      "execution_count": null,
      "outputs": []
    },
    {
      "cell_type": "code",
      "source": [
        "class Block(nn.Module):\n",
        "    def __init__(self, \n",
        "                 dim,\n",
        "                 num_heads,\n",
        "                 mlp_ratio = 4,\n",
        "                 qkv_bias = False,\n",
        "                 drop = 0.,\n",
        "                 attn_drop = 0.,\n",
        "                 drop_path = 0.,\n",
        "                 act_layer = nn.GELU,\n",
        "                 norm_layer = nn.LayerNorm,\n",
        "                 sr_ratio = 7.,\n",
        "                 kernel_size = 3,\n",
        "                 with_bn = True):\n",
        "        super().__init__()\n",
        "\n",
        "        self.norm1 = norm_layer(dim)\n",
        "        self.leatt = LocallyEnhancedAttention(dim, num_heads, qkv_bias = qkv_bias, attn_drop = attn_drop,\n",
        "                                              proj_drop = drop, kernel_size = kernel_size, sr_ratio = sr_ratio)\n",
        "        self.drop_path = DropPath(drop_path) if drop_path > 0 else nn.Identity()\n",
        "\n",
        "        self.norm2 = norm_layer(dim)\n",
        "        self.leff = LocallyEnhancedFeedForward(in_features = dim, hidden_features = dim * mlp_ratio,\n",
        "                                               act_layer = act_layer, drop = drop, \n",
        "                                               kernel_size = kernel_size, with_bn = with_bn)\n",
        "    \n",
        "    def forward(self, x):\n",
        "        x = x + self.drop_path(self.leatt(self.norm1(x)))\n",
        "        x = x + self.drop_path(self.leff(self.norm2(x)))\n",
        "        return x"
      ],
      "metadata": {
        "id": "3CUVdoUjarqe"
      },
      "execution_count": null,
      "outputs": []
    },
    {
      "cell_type": "code",
      "source": [
        "class LocallyEnhancedConvTransformer(nn.Module):\n",
        "    def __init__(self, \n",
        "                 img_size = 224, \n",
        "                 patch_size = 7,\n",
        "                 in_chans = 3,\n",
        "                 kernel_size = 3,\n",
        "                 num_classes = 100,\n",
        "                 embed_dims = [64, 128, 192],\n",
        "                 num_heads = [2, 4, 6],\n",
        "                 mlp_ratios = [2, 3, 4],\n",
        "                 qkv_bias = False,\n",
        "                 drop_rate = 0.1,\n",
        "                 attn_drop_rate = 0.,\n",
        "                 drop_path_rate = 0.1,\n",
        "                 depths = [1, 3, 1],\n",
        "                 num_stages = 3,\n",
        "                 act_layer = nn.GELU,\n",
        "                 norm_layer = partial(nn.LayerNorm, eps = 1e-6),\n",
        "                 with_bn = True):\n",
        "        super().__init__()\n",
        "\n",
        "        self.num_classes = num_classes\n",
        "        self.depths = depths\n",
        "        self.num_stages = num_stages\n",
        "\n",
        "        dpr = [x.item() for x in torch.linspace(0, drop_path_rate, sum(depths))]   # Stochastic depth decay rule\n",
        "        cur = 0\n",
        "\n",
        "        for i in range(num_stages):\n",
        "            patch_embed = ConvEmbedding(patch_size = patch_size if i == 0 else 3,\n",
        "                                        stride = 4 if i == 0 else 2,\n",
        "                                        in_chans = 3 if i == 0 else embed_dims[i - 1],\n",
        "                                        embed_dim = embed_dims[i])\n",
        "            blocks = nn.ModuleList([\n",
        "                                    Block(embed_dims[i], num_heads = num_heads[i],\n",
        "                                          mlp_ratio = mlp_ratios[i], qkv_bias = qkv_bias,\n",
        "                                          drop = drop_rate, attn_drop = attn_drop_rate,\n",
        "                                          drop_path = dpr[cur + j], act_layer = act_layer,\n",
        "                                          norm_layer = norm_layer, sr_ratio = 14 if i == 0 else 7,\n",
        "                                          kernel_size = kernel_size, with_bn = with_bn) for j in range(depths[i])\n",
        "            ])\n",
        "            norm = norm_layer(embed_dims[i])\n",
        "            cur += depths[i]\n",
        "\n",
        "            setattr(self, f\"patch_embed{i + 1}\", patch_embed)\n",
        "            setattr(self, f\"blocks{i + 1}\", blocks)\n",
        "            setattr(self, f\"norm{i + 1}\", norm)\n",
        "        \n",
        "        # Classifier Head\n",
        "        self.head = nn.Linear(embed_dims[-1], num_classes) if num_classes > 0 else nn.Identity()\n",
        "\n",
        "        self.apply(self._init_weights)\n",
        "\n",
        "    def _init_weights(self, m):\n",
        "        if isinstance(m, nn.Linear):\n",
        "            trunc_normal_(m.weight, std = .02)\n",
        "            if isinstance(m, nn.Linear) and m.bias is not None:\n",
        "                nn.init.constant_(m.bias, 0.)\n",
        "        elif isinstance(m, nn.LayerNorm):\n",
        "            nn.init.constant_(m.bias, 0)\n",
        "            nn.init.constant_(m.weight, 1.0)\n",
        "    \n",
        "    def get_classifier(self):\n",
        "        return self.head\n",
        "    \n",
        "    def reset_classifier(self, num_classes, global_pool = ''):\n",
        "        self.num_classes = num_classes\n",
        "        self.head = nn.Linear(self.embed_dim, num_classes) if num_classes > 0. else nn.Identity()\n",
        "    \n",
        "    def forward_features(self, x):\n",
        "        B = x.shape[0]\n",
        "\n",
        "        for i in range(self.num_stages):\n",
        "            patch_embed = getattr(self, f\"patch_embed{i + 1}\")\n",
        "            blocks = getattr(self, f\"blocks{i + 1}\")\n",
        "            norm = getattr(self, f\"norm{i + 1}\")\n",
        "\n",
        "            x, H, W = patch_embed(x)\n",
        "            for block in blocks:\n",
        "                x = block(x)\n",
        "            x = norm(x)\n",
        "\n",
        "            if i != self.num_stages - 1:\n",
        "                x = x.reshape(B, H, W, -1).permute(0, 3, 1, 2).contiguous()\n",
        "\n",
        "        return x.mean(dim = 1)\n",
        "    \n",
        "    def forward(self, x):\n",
        "        x = self.forward_features(x)\n",
        "        x = self.head(x)\n",
        "        return x\n"
      ],
      "metadata": {
        "id": "kzQrDMKBeMHu"
      },
      "execution_count": null,
      "outputs": []
    },
    {
      "cell_type": "code",
      "source": [
        "model = LocallyEnhancedConvTransformer(num_classes = 100).to(device)\n",
        "\n",
        "\n",
        "loss_history = {'train' : [], 'val' : []}\n",
        "acc_history = {'train' : [], 'val' : []}"
      ],
      "metadata": {
        "id": "60On1ncLr2D1"
      },
      "execution_count": null,
      "outputs": []
    },
    {
      "cell_type": "code",
      "source": [
        "def count_parameters(model):\n",
        "    params = sum(p.numel() for p in model.parameters() if p.requires_grad)\n",
        "    return params / 1000000"
      ],
      "metadata": {
        "id": "Hj_ROqpYsakl"
      },
      "execution_count": null,
      "outputs": []
    },
    {
      "cell_type": "code",
      "source": [
        "print(count_parameters(model))"
      ],
      "metadata": {
        "colab": {
          "base_uri": "https://localhost:8080/"
        },
        "id": "gQaefjhdstiN",
        "outputId": "2ca3cc00-d718-4bd2-acb1-22ce73507d67"
      },
      "execution_count": null,
      "outputs": [
        {
          "output_type": "stream",
          "name": "stdout",
          "text": [
            "1.168932\n"
          ]
        }
      ]
    },
    {
      "cell_type": "code",
      "source": [
        "import gc\n",
        "gc.collect()\n",
        "torch.cuda.empty_cache()"
      ],
      "metadata": {
        "id": "-0vXJi_q3gh_"
      },
      "execution_count": null,
      "outputs": []
    },
    {
      "cell_type": "code",
      "source": [
        "def test():\n",
        "    input = torch.rand(50, 3, 224, 224).to(device)\n",
        "    model.eval()\n",
        "    with torch.no_grad():\n",
        "        outputs = model(input)\n",
        "    print(outputs.size())\n",
        "    model.train()\n",
        "    \n",
        "start_time = time.time()\n",
        "for _ in range(50):\n",
        "    test()\n",
        "end_time = time.time()\n",
        "\n",
        "print(end_time - start_time)\n",
        "print(2500 / (end_time - start_time))"
      ],
      "metadata": {
        "colab": {
          "base_uri": "https://localhost:8080/"
        },
        "id": "HbCH2zRdsuBA",
        "outputId": "2eca1703-013e-40fb-a655-44e0e181399c"
      },
      "execution_count": null,
      "outputs": [
        {
          "output_type": "stream",
          "name": "stdout",
          "text": [
            "torch.Size([50, 100])\n",
            "torch.Size([50, 100])\n",
            "torch.Size([50, 100])\n",
            "torch.Size([50, 100])\n",
            "torch.Size([50, 100])\n",
            "torch.Size([50, 100])\n",
            "torch.Size([50, 100])\n",
            "torch.Size([50, 100])\n",
            "torch.Size([50, 100])\n",
            "torch.Size([50, 100])\n",
            "torch.Size([50, 100])\n",
            "torch.Size([50, 100])\n",
            "torch.Size([50, 100])\n",
            "torch.Size([50, 100])\n",
            "torch.Size([50, 100])\n",
            "torch.Size([50, 100])\n",
            "torch.Size([50, 100])\n",
            "torch.Size([50, 100])\n",
            "torch.Size([50, 100])\n",
            "torch.Size([50, 100])\n",
            "torch.Size([50, 100])\n",
            "torch.Size([50, 100])\n",
            "torch.Size([50, 100])\n",
            "torch.Size([50, 100])\n",
            "torch.Size([50, 100])\n",
            "torch.Size([50, 100])\n",
            "torch.Size([50, 100])\n",
            "torch.Size([50, 100])\n",
            "torch.Size([50, 100])\n",
            "torch.Size([50, 100])\n",
            "torch.Size([50, 100])\n",
            "torch.Size([50, 100])\n",
            "torch.Size([50, 100])\n",
            "torch.Size([50, 100])\n",
            "torch.Size([50, 100])\n",
            "torch.Size([50, 100])\n",
            "torch.Size([50, 100])\n",
            "torch.Size([50, 100])\n",
            "torch.Size([50, 100])\n",
            "torch.Size([50, 100])\n",
            "torch.Size([50, 100])\n",
            "torch.Size([50, 100])\n",
            "torch.Size([50, 100])\n",
            "torch.Size([50, 100])\n",
            "torch.Size([50, 100])\n",
            "torch.Size([50, 100])\n",
            "torch.Size([50, 100])\n",
            "torch.Size([50, 100])\n",
            "torch.Size([50, 100])\n",
            "torch.Size([50, 100])\n",
            "4.2502641677856445\n",
            "588.1987333748436\n"
          ]
        }
      ]
    },
    {
      "cell_type": "markdown",
      "source": [
        "13.55935025215149\n",
        "\n",
        "\n",
        "184.37461629869173"
      ],
      "metadata": {
        "id": "iDtoVUveVHy-"
      }
    },
    {
      "cell_type": "markdown",
      "source": [
        "# 학습하기"
      ],
      "metadata": {
        "id": "jgKe99FDu3Kd"
      }
    },
    {
      "cell_type": "code",
      "source": [
        "criterion = nn.CrossEntropyLoss()\n",
        "optimizer = torch.optim.AdamW(model.parameters(), lr = 0.001, weight_decay = 0.05)\n",
        "\n",
        "from torch.optim.lr_scheduler import CosineAnnealingLR\n",
        "lr_scheduler = CosineAnnealingLR(optimizer,T_max = 60)"
      ],
      "metadata": {
        "id": "tv2z8iE8swIt"
      },
      "execution_count": null,
      "outputs": []
    },
    {
      "cell_type": "code",
      "source": [
        "def get_lr(optimizer):\n",
        "    for param_group in optimizer.param_groups:\n",
        "        return param_group['lr']\n",
        "\n",
        "\n",
        "def loss_acc_batch(output, target, max_norm = 5, train = True):\n",
        "    loss_batch = criterion(output, target)\n",
        "    _, predicted = torch.max(output, dim = -1)\n",
        "    correct_batch = (predicted == target).sum().item()\n",
        "\n",
        "    # Train the model\n",
        "    if train:\n",
        "        optimizer.zero_grad()\n",
        "        loss_batch.backward()\n",
        "        if max_norm is not None:\n",
        "            nn.utils.clip_grad_norm(model.parameters(), max_norm)\n",
        "        optimizer.step()\n",
        "\n",
        "    return loss_batch.item(), correct_batch"
      ],
      "metadata": {
        "id": "bv0hztqHu5zM"
      },
      "execution_count": null,
      "outputs": []
    },
    {
      "cell_type": "code",
      "source": [
        "params_train = {\n",
        "    'num_epochs':60,\n",
        "    'max_norm': 5,\n",
        "    'optimizer':optimizer,\n",
        "    'criterion': criterion,\n",
        "    'sanity_check':False,\n",
        "    'lr_scheduler':lr_scheduler,\n",
        "    'filename': 'CIFAR10_LeCTv2_60_epochs.pth.tar',\n",
        "}"
      ],
      "metadata": {
        "id": "3FNm4Rsqu9hv"
      },
      "execution_count": null,
      "outputs": []
    },
    {
      "cell_type": "code",
      "source": [
        "def train_fn(model, params):\n",
        "    num_epochs = params['num_epochs']\n",
        "    max_norm = params['max_norm']\n",
        "    criterion = params['criterion']\n",
        "    optimizer = params['optimizer']\n",
        "    sanity_check = params['sanity_check']\n",
        "    lr_scheduler = params['lr_scheduler']\n",
        "    filename = params['filename']\n",
        "\n",
        "    best_loss = float('inf')\n",
        "    best_model_checkpoint = copy.deepcopy(model.state_dict())\n",
        "    start_time = time.time()\n",
        "\n",
        "    for epoch in range(num_epochs):\n",
        "        curr_lr = get_lr(optimizer)\n",
        "        print(\"Epoch {} / {}, current lr = {}\".format(epoch + 1, num_epochs, curr_lr))\n",
        "\n",
        "        model.train()\n",
        "\n",
        "\n",
        "        train_loss = 0.\n",
        "        train_correct = 0.\n",
        "        total = len(train_dataset)\n",
        "\n",
        "        for imgs, labels in train_loader:\n",
        "            imgs, labels = imgs.to(device), labels.to(device)\n",
        "\n",
        "            outputs = model(imgs)\n",
        "            loss_batch, correct_batch = loss_acc_batch(outputs, labels, max_norm)\n",
        "\n",
        "            train_loss += loss_batch\n",
        "            train_correct += correct_batch\n",
        "\n",
        "            if sanity_check is True:\n",
        "                break\n",
        "        lr_scheduler.step()\n",
        "        \n",
        "        train_loss = train_loss / total\n",
        "        train_acc = train_correct / total\n",
        "\n",
        "        loss_history['train'].append(train_loss)\n",
        "        acc_history['train'].append(train_acc)\n",
        "\n",
        "        model.eval()\n",
        "        with torch.no_grad():\n",
        "            val_loss = 0\n",
        "            val_correct = 0\n",
        "            total = len(valid_dataset)\n",
        "\n",
        "            for imgs, labels in valid_loader:\n",
        "                imgs, labels = imgs.to(device), labels.to(device)\n",
        "\n",
        "                outputs = model(imgs)\n",
        "                loss_batch, correct_batch = loss_acc_batch(outputs, labels, train = False)\n",
        "\n",
        "                val_loss += loss_batch\n",
        "                val_correct += correct_batch\n",
        "\n",
        "                if sanity_check is True:\n",
        "                    break\n",
        "            \n",
        "            val_loss = val_loss / total\n",
        "            val_acc = val_correct / total\n",
        "\n",
        "        loss_history['val'].append(val_loss)\n",
        "        acc_history['val'].append(val_acc)\n",
        "        \n",
        "        if val_loss < best_loss:\n",
        "            best_loss = val_loss\n",
        "            best_model_checkpoint = copy.deepcopy(model.state_dict())\n",
        "            torch.save(model.state_dict(), filename)\n",
        "            print(\"copied best model weights!\")\n",
        "        \n",
        "        \n",
        "        print('train loss : %.6f, val loss : %.6f, accuracy : %.2f, time %.4f min' %\n",
        "              (train_loss, val_loss, 100 * val_acc, (time.time() - start_time) / 60))\n",
        "        print(\"-\" * 10)\n",
        "    \n",
        "    model.load_state_dict(best_model_checkpoint)\n",
        "    return model, loss_history, acc_history"
      ],
      "metadata": {
        "id": "W176XvwEvA5d"
      },
      "execution_count": null,
      "outputs": []
    },
    {
      "cell_type": "code",
      "source": [
        "model, loss_history, acc_history = train_fn(model, params_train)"
      ],
      "metadata": {
        "colab": {
          "base_uri": "https://localhost:8080/"
        },
        "id": "l5_jlSECvFKK",
        "outputId": "d22dd71f-ce63-48f3-a983-6c19a5f0934d"
      },
      "execution_count": null,
      "outputs": [
        {
          "output_type": "stream",
          "name": "stdout",
          "text": [
            "Epoch 1 / 60, current lr = 0.001\n"
          ]
        },
        {
          "output_type": "stream",
          "name": "stderr",
          "text": [
            "/usr/local/lib/python3.7/dist-packages/ipykernel_launcher.py:16: UserWarning: torch.nn.utils.clip_grad_norm is now deprecated in favor of torch.nn.utils.clip_grad_norm_.\n",
            "  app.launch_new_instance()\n"
          ]
        },
        {
          "output_type": "stream",
          "name": "stdout",
          "text": [
            "copied best model weights!\n",
            "train loss : 0.026101, val loss : 0.021259, accuracy : 49.89, time 15.8757 min\n",
            "----------\n",
            "Epoch 2 / 60, current lr = 0.0009993147673772868\n",
            "copied best model weights!\n",
            "train loss : 0.018436, val loss : 0.018478, accuracy : 59.29, time 31.7144 min\n",
            "----------\n",
            "Epoch 3 / 60, current lr = 0.0009972609476841365\n",
            "copied best model weights!\n",
            "train loss : 0.015265, val loss : 0.014238, accuracy : 69.01, time 47.5386 min\n",
            "----------\n",
            "Epoch 4 / 60, current lr = 0.0009938441702975688\n",
            "copied best model weights!\n",
            "train loss : 0.013305, val loss : 0.010486, accuracy : 77.09, time 63.3451 min\n",
            "----------\n",
            "Epoch 5 / 60, current lr = 0.0009890738003669028\n",
            "train loss : 0.011852, val loss : 0.011022, accuracy : 75.58, time 79.1685 min\n",
            "----------\n",
            "Epoch 6 / 60, current lr = 0.0009829629131445341\n",
            "copied best model weights!\n",
            "train loss : 0.010838, val loss : 0.010398, accuracy : 77.58, time 95.0161 min\n",
            "----------\n",
            "Epoch 7 / 60, current lr = 0.0009755282581475769\n",
            "copied best model weights!\n",
            "train loss : 0.010092, val loss : 0.008528, accuracy : 81.26, time 110.8554 min\n",
            "----------\n",
            "Epoch 8 / 60, current lr = 0.0009667902132486009\n",
            "copied best model weights!\n",
            "train loss : 0.009439, val loss : 0.007632, accuracy : 83.88, time 126.7177 min\n",
            "----------\n",
            "Epoch 9 / 60, current lr = 0.0009567727288213005\n",
            "copied best model weights!\n",
            "train loss : 0.009019, val loss : 0.007415, accuracy : 84.13, time 142.5848 min\n",
            "----------\n",
            "Epoch 10 / 60, current lr = 0.0009455032620941839\n",
            "copied best model weights!\n",
            "train loss : 0.008557, val loss : 0.006660, accuracy : 85.61, time 158.4455 min\n",
            "----------\n",
            "Epoch 11 / 60, current lr = 0.0009330127018922195\n",
            "train loss : 0.008262, val loss : 0.006682, accuracy : 85.55, time 174.2951 min\n",
            "----------\n",
            "Epoch 12 / 60, current lr = 0.0009193352839727121\n",
            "train loss : 0.007936, val loss : 0.006687, accuracy : 85.08, time 190.1338 min\n",
            "----------\n",
            "Epoch 13 / 60, current lr = 0.0009045084971874737\n",
            "copied best model weights!\n",
            "train loss : 0.007581, val loss : 0.006534, accuracy : 86.47, time 205.9555 min\n",
            "----------\n",
            "Epoch 14 / 60, current lr = 0.0008885729807284855\n",
            "copied best model weights!\n",
            "train loss : 0.007333, val loss : 0.005776, accuracy : 87.47, time 221.8149 min\n",
            "----------\n",
            "Epoch 15 / 60, current lr = 0.0008715724127386972\n",
            "train loss : 0.007136, val loss : 0.005815, accuracy : 87.53, time 237.6485 min\n",
            "----------\n",
            "Epoch 16 / 60, current lr = 0.0008535533905932738\n",
            "train loss : 0.006866, val loss : 0.006080, accuracy : 87.26, time 253.4922 min\n",
            "----------\n",
            "Epoch 17 / 60, current lr = 0.0008345653031794292\n",
            "copied best model weights!\n",
            "train loss : 0.006739, val loss : 0.005184, accuracy : 88.76, time 269.3281 min\n",
            "----------\n",
            "Epoch 18 / 60, current lr = 0.0008146601955249188\n",
            "copied best model weights!\n",
            "train loss : 0.006388, val loss : 0.005032, accuracy : 89.18, time 285.1706 min\n",
            "----------\n",
            "Epoch 19 / 60, current lr = 0.0007938926261462366\n",
            "train loss : 0.006273, val loss : 0.005037, accuracy : 89.08, time 301.0161 min\n",
            "----------\n",
            "Epoch 20 / 60, current lr = 0.0007723195175075136\n",
            "train loss : 0.006055, val loss : 0.005249, accuracy : 89.23, time 316.8464 min\n",
            "----------\n",
            "Epoch 21 / 60, current lr = 0.00075\n",
            "copied best model weights!\n",
            "train loss : 0.005936, val loss : 0.004772, accuracy : 90.08, time 332.6926 min\n",
            "----------\n",
            "Epoch 22 / 60, current lr = 0.0007269952498697733\n",
            "train loss : 0.005802, val loss : 0.005142, accuracy : 89.75, time 348.5238 min\n",
            "----------\n",
            "Epoch 23 / 60, current lr = 0.0007033683215379002\n",
            "train loss : 0.005630, val loss : 0.004888, accuracy : 89.68, time 364.3580 min\n",
            "----------\n",
            "Epoch 24 / 60, current lr = 0.0006791839747726503\n",
            "train loss : 0.005417, val loss : 0.005277, accuracy : 89.00, time 380.2003 min\n",
            "----------\n",
            "Epoch 25 / 60, current lr = 0.0006545084971874737\n",
            "train loss : 0.005273, val loss : 0.005311, accuracy : 89.01, time 396.0399 min\n",
            "----------\n",
            "Epoch 26 / 60, current lr = 0.0006294095225512603\n",
            "copied best model weights!\n",
            "train loss : 0.005129, val loss : 0.004682, accuracy : 90.39, time 411.8767 min\n",
            "----------\n",
            "Epoch 27 / 60, current lr = 0.0006039558454088795\n",
            "copied best model weights!\n",
            "train loss : 0.004965, val loss : 0.004330, accuracy : 90.88, time 427.6995 min\n",
            "----------\n",
            "Epoch 28 / 60, current lr = 0.0005782172325201154\n",
            "copied best model weights!\n",
            "train loss : 0.004822, val loss : 0.004197, accuracy : 91.20, time 443.5432 min\n",
            "----------\n",
            "Epoch 29 / 60, current lr = 0.0005522642316338267\n",
            "train loss : 0.004702, val loss : 0.005039, accuracy : 90.11, time 459.3909 min\n",
            "----------\n",
            "Epoch 30 / 60, current lr = 0.0005261679781214719\n",
            "copied best model weights!\n",
            "train loss : 0.004564, val loss : 0.003984, accuracy : 91.78, time 475.2270 min\n",
            "----------\n",
            "Epoch 31 / 60, current lr = 0.0005000000000000001\n",
            "train loss : 0.004450, val loss : 0.004045, accuracy : 91.70, time 491.0570 min\n",
            "----------\n",
            "Epoch 32 / 60, current lr = 0.00047383202187852816\n",
            "train loss : 0.004296, val loss : 0.004501, accuracy : 90.91, time 506.9006 min\n",
            "----------\n",
            "Epoch 33 / 60, current lr = 0.00044773576836617336\n",
            "train loss : 0.004115, val loss : 0.004314, accuracy : 91.19, time 522.7794 min\n",
            "----------\n",
            "Epoch 34 / 60, current lr = 0.0004217827674798846\n",
            "copied best model weights!\n",
            "train loss : 0.004007, val loss : 0.003848, accuracy : 92.20, time 538.6832 min\n",
            "----------\n",
            "Epoch 35 / 60, current lr = 0.00039604415459112036\n",
            "train loss : 0.003938, val loss : 0.003954, accuracy : 91.84, time 554.7024 min\n",
            "----------\n",
            "Epoch 36 / 60, current lr = 0.00037059047744873974\n",
            "train loss : 0.003793, val loss : 0.004592, accuracy : 91.16, time 570.8025 min\n",
            "----------\n",
            "Epoch 37 / 60, current lr = 0.0003454915028125264\n",
            "train loss : 0.003687, val loss : 0.003873, accuracy : 92.20, time 586.8176 min\n",
            "----------\n",
            "Epoch 38 / 60, current lr = 0.0003208160252273499\n",
            "train loss : 0.003534, val loss : 0.003898, accuracy : 92.35, time 602.8455 min\n",
            "----------\n",
            "Epoch 39 / 60, current lr = 0.00029663167846210003\n",
            "copied best model weights!\n",
            "train loss : 0.003339, val loss : 0.003809, accuracy : 92.39, time 618.8960 min\n",
            "----------\n",
            "Epoch 40 / 60, current lr = 0.0002730047501302267\n",
            "copied best model weights!\n",
            "train loss : 0.003343, val loss : 0.003485, accuracy : 92.75, time 634.9632 min\n",
            "----------\n",
            "Epoch 41 / 60, current lr = 0.00025000000000000017\n",
            "train loss : 0.003171, val loss : 0.003760, accuracy : 92.68, time 650.9986 min\n",
            "----------\n",
            "Epoch 42 / 60, current lr = 0.00022768048249248665\n",
            "train loss : 0.003042, val loss : 0.003755, accuracy : 92.53, time 667.0336 min\n",
            "----------\n",
            "Epoch 43 / 60, current lr = 0.00020610737385376354\n",
            "train loss : 0.002843, val loss : 0.003840, accuracy : 92.59, time 683.0616 min\n",
            "----------\n",
            "Epoch 44 / 60, current lr = 0.0001853398044750814\n",
            "train loss : 0.002852, val loss : 0.003547, accuracy : 93.16, time 699.1041 min\n",
            "----------\n",
            "Epoch 45 / 60, current lr = 0.0001654346968205711\n",
            "copied best model weights!\n",
            "train loss : 0.002688, val loss : 0.003217, accuracy : 93.72, time 715.1508 min\n",
            "----------\n",
            "Epoch 46 / 60, current lr = 0.0001464466094067263\n",
            "copied best model weights!\n",
            "train loss : 0.002615, val loss : 0.003176, accuracy : 93.91, time 731.2039 min\n",
            "----------\n",
            "Epoch 47 / 60, current lr = 0.00012842758726130303\n",
            "train loss : 0.002570, val loss : 0.003234, accuracy : 93.91, time 747.0268 min\n",
            "----------\n",
            "Epoch 48 / 60, current lr = 0.00011142701927151459\n",
            "train loss : 0.002429, val loss : 0.003273, accuracy : 93.69, time 762.8276 min\n",
            "----------\n",
            "Epoch 49 / 60, current lr = 9.549150281252635e-05\n",
            "copied best model weights!\n",
            "train loss : 0.002331, val loss : 0.003126, accuracy : 93.87, time 778.6778 min\n",
            "----------\n",
            "Epoch 50 / 60, current lr = 8.066471602728805e-05\n",
            "train loss : 0.002246, val loss : 0.003290, accuracy : 93.91, time 794.5546 min\n",
            "----------\n",
            "Epoch 51 / 60, current lr = 6.698729810778066e-05\n",
            "train loss : 0.002186, val loss : 0.003191, accuracy : 93.82, time 810.4511 min\n",
            "----------\n",
            "Epoch 52 / 60, current lr = 5.449673790581612e-05\n",
            "copied best model weights!\n",
            "train loss : 0.002192, val loss : 0.003050, accuracy : 94.31, time 826.3533 min\n",
            "----------\n",
            "Epoch 53 / 60, current lr = 4.322727117869952e-05\n",
            "copied best model weights!\n",
            "train loss : 0.002127, val loss : 0.003036, accuracy : 94.27, time 842.2516 min\n",
            "----------\n",
            "Epoch 54 / 60, current lr = 3.3209786751399136e-05\n",
            "copied best model weights!\n",
            "train loss : 0.001998, val loss : 0.003021, accuracy : 94.32, time 858.1969 min\n",
            "----------\n",
            "Epoch 55 / 60, current lr = 2.4471741852423238e-05\n",
            "train loss : 0.001971, val loss : 0.003038, accuracy : 94.18, time 874.0986 min\n",
            "----------\n",
            "Epoch 56 / 60, current lr = 1.7037086855465846e-05\n",
            "copied best model weights!\n",
            "train loss : 0.001955, val loss : 0.002979, accuracy : 94.36, time 890.0212 min\n",
            "----------\n",
            "Epoch 57 / 60, current lr = 1.0926199633097158e-05\n",
            "train loss : 0.001963, val loss : 0.002994, accuracy : 94.36, time 905.9330 min\n",
            "----------\n",
            "Epoch 58 / 60, current lr = 6.155829702431172e-06\n",
            "copied best model weights!\n",
            "train loss : 0.001980, val loss : 0.002914, accuracy : 94.56, time 921.8505 min\n",
            "----------\n",
            "Epoch 59 / 60, current lr = 2.7390523158633003e-06\n",
            "train loss : 0.001915, val loss : 0.002964, accuracy : 94.48, time 937.7492 min\n",
            "----------\n",
            "Epoch 60 / 60, current lr = 6.852326227130837e-07\n",
            "train loss : 0.001892, val loss : 0.002985, accuracy : 94.41, time 953.6442 min\n",
            "----------\n"
          ]
        }
      ]
    },
    {
      "cell_type": "code",
      "source": [
        "import matplotlib.pyplot as plt\n",
        "num_epochs = params_train['num_epochs']\n",
        "\n",
        "# Plot train-val loss\n",
        "plt.title('Train-Val Loss')\n",
        "plt.plot(range(1, num_epochs + 1), loss_history['train'], label = 'train')\n",
        "plt.plot(range(1, num_epochs + 1), loss_history['val'], label = 'val')\n",
        "plt.ylabel('Loss')\n",
        "plt.xlabel('Training Epochs')\n",
        "plt.legend()\n",
        "plt.show()\n",
        "\n",
        "# Plot train-val accuracy\n",
        "plt.title('Train-Val Accuracy')\n",
        "plt.plot(range(1, num_epochs + 1), acc_history['train'], label = 'train')\n",
        "plt.plot(range(1, num_epochs + 1), acc_history['val'], label = 'val')\n",
        "plt.xlabel('Training epochs')\n",
        "plt.ylabel('Accuracy')\n",
        "plt.legend()\n",
        "plt.show()"
      ],
      "metadata": {
        "colab": {
          "base_uri": "https://localhost:8080/",
          "height": 573
        },
        "id": "EwkkxLZivM84",
        "outputId": "48394ad9-9412-4484-e9b5-09a6be32ad2b"
      },
      "execution_count": null,
      "outputs": [
        {
          "output_type": "display_data",
          "data": {
            "text/plain": [
              "<Figure size 432x288 with 1 Axes>"
            ],
            "image/png": "[encoded data removed]"
          },
          "metadata": {
            "needs_background": "light"
          }
        },
        {
          "output_type": "display_data",
          "data": {
            "text/plain": [
              "<Figure size 432x288 with 1 Axes>"
            ],
            "image/png": "[encoded data removed]"
          },
          "metadata": {
            "needs_background": "light"
          }
        }
      ]
    },
    {
      "cell_type": "code",
      "source": [
        "import json\n",
        "\n",
        "with open('CIFAR10_LeCTv2_loss_history.json', 'w') as f:\n",
        "    json.dump(loss_history, f, indent = 4)\n",
        "\n",
        "with open('CIFAR10_LeCTv2_acc_history.json', 'w') as g:\n",
        "    json.dump(acc_history, g, indent = 4)"
      ],
      "metadata": {
        "id": "iONfxv1avVHd"
      },
      "execution_count": null,
      "outputs": []
    },
    {
      "cell_type": "code",
      "source": [
        ""
      ],
      "metadata": {
        "id": "L-dvbaD6zWKf"
      },
      "execution_count": null,
      "outputs": []
    }
  ]
}