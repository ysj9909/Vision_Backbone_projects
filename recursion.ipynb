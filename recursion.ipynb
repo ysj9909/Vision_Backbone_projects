{
 "cells": [
  {
   "cell_type": "code",
   "execution_count": 4,
   "id": "7bc9ba7b",
   "metadata": {},
   "outputs": [],
   "source": [
    "# Implementation Example: Assembly Line Scheduling in Dynamic Programming\n",
    "\n",
    "\n",
    "class Assembly_Line:\n",
    "    def __init__(self, line_length, line1, line2, cross12, cross21):\n",
    "        \"\"\"\n",
    "        line1 or 2 : 1 or 2 line's time list  shape of (line_length + 2)\n",
    "        crossij : crossing line's time list (i to j) shape of (line_length - 1)\n",
    "        line_length : the number of stations\n",
    "        \"\"\"\n",
    "        self.line_length = line_length\n",
    "        self.line1 = line1\n",
    "        self.line2 = line2\n",
    "        self.cross12 = cross12\n",
    "        self.cross21 = cross21\n",
    "        \n",
    "    def Scheduling(self):\n",
    "        time_record = [[], []]\n",
    "        trace_record = [[], []]\n",
    "        for i in range(self.line_length):\n",
    "            if i == 0:\n",
    "                time_record[0].append(self.line1[0] + self.line1[1])\n",
    "                time_record[1].append(self.line2[0] + self.line2[1])\n",
    "                trace_record[0].append(0)\n",
    "                trace_record[1].append(0)\n",
    "            else:\n",
    "                if time_record[0][i - 1] + self.line1[i + 1] < time_record[1][i - 1] + self.cross21[i - 1] + self.line1[i + 1]:\n",
    "                    time_record[0].append(time_record[0][i - 1] + self.line1[i + 1])\n",
    "                    trace_record[0].append(1)\n",
    "                else:\n",
    "                    time_record[0].append(time_record[1][i - 1] + self.cross21[i - 1] + self.line1[i + 1])\n",
    "                    trace_record[0].append(2)\n",
    "                \n",
    "                if time_record[1][i - 1] + self.line2[i + 1] < time_record[0][i - 1] + self.cross12[i - 1] + self.line2[i + 1]:\n",
    "                    time_record[1].append(time_record[1][i - 1] + self.line2[i + 1])\n",
    "                    trace_record[1].append(2)\n",
    "                else:\n",
    "                    time_record[1].append(time_record[0][i - 1] + self.cross12[i - 1] + self.line2[i + 1])\n",
    "                    trace_record[1].append(1)\n",
    "        \n",
    "        \n",
    "        time_record[0][self.line_length - 1] += self.line1[-1]\n",
    "        time_record[1][self.line_length - 1] += self.line2[-1]\n",
    "        if time_record[0][-1] < time_record[1][-1]:\n",
    "            final_time = time_record[0][-1]\n",
    "            final_line = 1\n",
    "        else:\n",
    "            final_time = time_record[1][-1]\n",
    "            final_line = 2\n",
    "        \n",
    "        trace = []\n",
    "        trace.append(final_line)\n",
    "        for i in range(self.line_length):\n",
    "            trace.append(trace_record[trace[i] - 1][self.line_length - 1 - i])\n",
    "        \n",
    "        print(\"=================\")\n",
    "        print(\"Cost matrix\")\n",
    "        print(time_record[0])\n",
    "        print(time_record[1])\n",
    "        print(\"=================\")\n",
    "        print(\"Retrace matrix\")\n",
    "        print(trace_record[0])\n",
    "        print(trace_record[1])\n",
    "        print(\"=================\")\n",
    "        print(\"Shortest time :\", final_time)\n",
    "        print(\"Shortest production line :\", list(reversed(trace)))"
   ]
  },
  {
   "cell_type": "code",
   "execution_count": 5,
   "id": "3d1b1867",
   "metadata": {},
   "outputs": [],
   "source": [
    "model = Assembly_Line(6, [2, 7, 9, 3, 4, 8, 4, 3], [4, 8, 5, 6, 4, 5, 7, 2], [2, 3, 1, 3, 4], [2, 1, 2, 2, 1])"
   ]
  },
  {
   "cell_type": "code",
   "execution_count": 6,
   "id": "0aa449f8",
   "metadata": {},
   "outputs": [
    {
     "name": "stdout",
     "output_type": "stream",
     "text": [
      "=================\n",
      "Cost matrix\n",
      "[9, 18, 20, 24, 32, 38]\n",
      "[12, 16, 22, 25, 30, 39]\n",
      "=================\n",
      "Retrace matrix\n",
      "[0, 1, 2, 1, 1, 2]\n",
      "[0, 1, 2, 1, 2, 2]\n",
      "=================\n",
      "Shortest time : 38\n",
      "Shortest production line : [0, 1, 2, 1, 2, 2, 1]\n"
     ]
    }
   ],
   "source": [
    "model.Scheduling()"
   ]
  },
  {
   "cell_type": "code",
   "execution_count": null,
   "id": "bad4be8c",
   "metadata": {},
   "outputs": [],
   "source": []
  }
 ],
 "metadata": {
  "kernelspec": {
   "display_name": "Python 3",
   "language": "python",
   "name": "python3"
  },
  "language_info": {
   "codemirror_mode": {
    "name": "ipython",
    "version": 3
   },
   "file_extension": ".py",
   "mimetype": "text/x-python",
   "name": "python",
   "nbconvert_exporter": "python",
   "pygments_lexer": "ipython3",
   "version": "3.8.8"
  }
 },
 "nbformat": 4,
 "nbformat_minor": 5
}
